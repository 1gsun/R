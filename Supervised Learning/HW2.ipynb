{
 "cells": [
  {
   "cell_type": "markdown",
   "metadata": {},
   "source": [
    "# HW2 \n",
    "## Wenjie Sun (WS854)"
   ]
  },
  {
   "cell_type": "markdown",
   "metadata": {},
   "source": [
    "## 1 (a)"
   ]
  },
  {
   "cell_type": "code",
   "execution_count": 4,
   "metadata": {
    "collapsed": false
   },
   "outputs": [
    {
     "name": "stderr",
     "output_type": "stream",
     "text": [
      "also installing the dependencies ‘memoise’, ‘whisker’, ‘rstudioapi’, ‘git2r’, ‘withr’\n",
      "\n",
      "Updating HTML index of packages in '.Library'\n",
      "Making 'packages.html' ... done\n",
      "Downloading GitHub repo IRkernel/IRkernel@master\n",
      "from URL https://api.github.com/repos/IRkernel/IRkernel/zipball/master\n",
      "Warning message:\n",
      "“GitHub repo contains submodules, may not function as expected!”Installing IRkernel\n",
      "Warning message in utils::untar(src, exdir = target, compressed = \"gzip\"):\n",
      "“‘/usr/bin/gnutar -xf '/var/folders/0_/_ztstqr576q_6bg61mmgp14m0000gn/T//Rtmpj3AUP5/digest_0.6.12.tar.gz' -C '/var/folders/0_/_ztstqr576q_6bg61mmgp14m0000gn/T//Rtmpj3AUP5/devtoolse1f03758302f'’ returned error code 127”"
     ]
    },
    {
     "ename": "ERROR",
     "evalue": "Error in system(cmd, intern = TRUE): error in running command\n",
     "output_type": "error",
     "traceback": [
      "Error in system(cmd, intern = TRUE): error in running command\nTraceback:\n",
      "1. devtools::install_github(\"IRkernel/IRkernel\")",
      "2. install_remotes(remotes, quiet = quiet, ...)",
      "3. vapply(remotes, install_remote, ..., FUN.VALUE = logical(1))",
      "4. FUN(X[[i]], ...)",
      "5. install(source, ..., quiet = quiet, metadata = metadata)",
      "6. install_deps(pkg, dependencies = initial_deps, upgrade = upgrade_dependencies, \n .     threads = threads, force_deps = force_deps, quiet = quiet, \n .     ...)",
      "7. update(pkg, ..., Ncpus = threads, quiet = quiet, upgrade = upgrade)",
      "8. update.package_deps(pkg, ..., Ncpus = threads, quiet = quiet, \n .     upgrade = upgrade)",
      "9. install_remotes(object$remote[behind], ..., quiet = quiet)",
      "10. vapply(remotes, install_remote, ..., FUN.VALUE = logical(1))",
      "11. FUN(X[[i]], ...)",
      "12. source_pkg(bundle, subdir = remote$subdir)",
      "13. source_pkg_info(path = path, subdir = subdir)",
      "14. decompress(path, outdir)",
      "15. getrootdir(utils::untar(src, compressed = \"gzip\", list = TRUE))",
      "16. nchar(gsub(\"[^/]\", \"\", file_list))",
      "17. gsub(\"[^/]\", \"\", file_list)",
      "18. utils::untar(src, compressed = \"gzip\", list = TRUE)",
      "19. system(cmd, intern = TRUE)"
     ]
    }
   ],
   "source": [
    "install.packages('devtools')\n",
    "devtools::install_github('IRkernel/IRkernel')"
   ]
  },
  {
   "cell_type": "code",
   "execution_count": 2,
   "metadata": {
    "collapsed": false
   },
   "outputs": [
    {
     "name": "stderr",
     "output_type": "stream",
     "text": [
      "also installing the dependency ‘XML’\n",
      "\n",
      "Warning message in install.packages(\"quanteda\"):\n",
      "“installation of package ‘XML’ had non-zero exit status”Warning message in install.packages(\"quanteda\"):\n",
      "“installation of package ‘quanteda’ had non-zero exit status”Updating HTML index of packages in '.Library'\n",
      "Making 'packages.html' ... done\n"
     ]
    }
   ],
   "source": [
    "install.packages(\"quanteda\") "
   ]
  },
  {
   "cell_type": "code",
   "execution_count": 3,
   "metadata": {
    "collapsed": false
   },
   "outputs": [],
   "source": [
    "library(quanteda)\n",
    "Q1_lepen <- c(lepen1= \"immigration women assimilate afraid win\",\n",
    "        lepen2 = \"culture voter economy president help\",\n",
    "        lepen3 = \"economy voter immigration president culture\")\n",
    "Q1_macron <- c(\n",
    "        macron1 = \"voter women help reform education\",\n",
    "        macron2 = \"union economy hope immigration neighbourhood\",\n",
    "        marcon3 = \"win union europe elect president\",\n",
    "        macro4 = \"success german culture help french\")\n",
    "Q1_new <- c(new = \"immigration voter culture help neighbourhood\")\n",
    "lepen_dfm <- dfm(Q1_lepen)\n",
    "macron_dfm <- dfm(Q1_macron)\n",
    "new_dfm <- dfm(Q1_new)\n",
    "lepensum <- sum(lepen_dfm)\n",
    "macrosum <- sum(macron_dfm)"
   ]
  },
  {
   "cell_type": "code",
   "execution_count": 4,
   "metadata": {
    "collapsed": false
   },
   "outputs": [
    {
     "data": {
      "text/html": [
       "20"
      ],
      "text/latex": [
       "20"
      ],
      "text/markdown": [
       "20"
      ],
      "text/plain": [
       "[1] 20"
      ]
     },
     "metadata": {},
     "output_type": "display_data"
    }
   ],
   "source": [
    "macrosum"
   ]
  },
  {
   "cell_type": "code",
   "execution_count": 380,
   "metadata": {
    "collapsed": false
   },
   "outputs": [
    {
     "data": {
      "text/html": [
       "6.25e-07"
      ],
      "text/latex": [
       "6.25e-07"
      ],
      "text/markdown": [
       "6.25e-07"
      ],
      "text/plain": [
       "[1] 6.25e-07"
      ]
     },
     "metadata": {},
     "output_type": "display_data"
    },
    {
     "data": {
      "text/html": [
       "0"
      ],
      "text/latex": [
       "0"
      ],
      "text/markdown": [
       "0"
      ],
      "text/plain": [
       "[1] 0"
      ]
     },
     "metadata": {},
     "output_type": "display_data"
    }
   ],
   "source": [
    "# without smoothing \n",
    "newwords <- colnames(new_dfm)\n",
    "macron_p <- 1 \n",
    "lepen_p <-1\n",
    "\n",
    "# try count number of occurance of a praticualr word from the next text \n",
    "# and find the probability of each from both classes then update the total probabily \n",
    "for (i in (1:length(newwords))) {\n",
    "    macron_count <- try(sum(macron_dfm[,newwords[i]]))\n",
    "    if (class(macron_count) == \"try-error\" ) {\n",
    "        macron_count <- 0 \n",
    "    }\n",
    "    macron_p <- macron_p * (macron_count/macrosum)\n",
    "    \n",
    "    lepen_count <- try(sum(lepen_dfm[,newwords[i]]))\n",
    "    if (class(lepen_count) == \"try-error\" ) {\n",
    "        lepen_count <- 0 \n",
    "    }\n",
    "    lepen_p <- lepen_p * (lepen_count/lepensum)\n",
    "}\n",
    "\n",
    "macron_p\n",
    "lepen_p"
   ]
  },
  {
   "cell_type": "markdown",
   "metadata": {},
   "source": [
    "Choose Macron"
   ]
  },
  {
   "cell_type": "code",
   "execution_count": 363,
   "metadata": {
    "collapsed": false
   },
   "outputs": [
    {
     "data": {
      "text/plain": [
       "Predicted textmodel of type: Naive Bayes\n",
       "\n",
       "    lp(lepen) lp(macron)    Pr(lepen) Pr(macron) Predicted\n",
       "new      -Inf  -14.97866       0.0000     1.0000    macron\n"
      ]
     },
     "metadata": {},
     "output_type": "display_data"
    }
   ],
   "source": [
    "# use package \n",
    "Q1_training <- c(lepen1= \"immigration women assimilate afraid win\",\n",
    "        lepen2 = \"culture voter economy president help\",\n",
    "        macron1 = \"voter women help reform education\",\n",
    "        macron2 = \"union economy hope immigration neighbourhood\",\n",
    "        marcon3 = \"win union europe elect president\",\n",
    "        lepen3 = \"economy voter immigration president culture\",\n",
    "        macro4 = \"success german culture help french\",\n",
    "        new = \"immigration voter culture help neighbourhood\")\n",
    "Q1_dfm <- dfm(Q1_training) # since neighborhood and neighbourhood spelit differently\n",
    "training_class<-factor(c(\"lepen\",\"lepen\",\"macron\",\"macron\",\"macron\",\"lepen\",\"macron\"),ordered = TRUE)\n",
    "\n",
    "# Predict without smoothing\n",
    "predict(textmodel_NB(Q1_dfm[1:7],training_class,smooth = 0),newdata = Q1_dfm[8])"
   ]
  },
  {
   "cell_type": "markdown",
   "metadata": {},
   "source": [
    "#### Becasue \"neighbourhood\" doesn't exist in any of lepen's speech, thus the probabily on this word given by lepen becomes 0. And when mutply  all the probability, the total probabiltly becomes 0 too. However, I would not trust the finding becasue the prediction should not be based on one signle word. Also, the probability of Macron is also really small. "
   ]
  },
  {
   "cell_type": "markdown",
   "metadata": {},
   "source": [
    "## 1 (b)"
   ]
  },
  {
   "cell_type": "code",
   "execution_count": 6,
   "metadata": {
    "collapsed": false
   },
   "outputs": [
    {
     "data": {
      "text/html": [
       "0.675947072908379"
      ],
      "text/latex": [
       "0.675947072908379"
      ],
      "text/markdown": [
       "0.675947072908379"
      ],
      "text/plain": [
       "[1] 0.6759471"
      ]
     },
     "metadata": {},
     "output_type": "display_data"
    }
   ],
   "source": [
    "# with smoothing \n",
    "newwords <- colnames(new_dfm)\n",
    "macron_p <- 1 \n",
    "lepen_p <-1\n",
    "\n",
    "# try count number of occurance of a praticualr word from the next text \n",
    "# and find the probability of each from both classes then update the total probabily \n",
    "# on demoniator, add number of words used in each class\n",
    "for (i in (1:length(newwords))) {\n",
    "    macron_count <- try(sum(macron_dfm[,newwords[i]]))\n",
    "    if (class(macron_count) == \"try-error\" ) {\n",
    "        macron_count <- 0 \n",
    "    }\n",
    "    macron_p <- macron_p * ((macron_count+1)/(macrosum+length(colnames(macron_dfm))))\n",
    "    \n",
    "    lepen_count <- try(sum(lepen_dfm[,newwords[i]]))\n",
    "    if (class(lepen_count) == \"try-error\" ) {\n",
    "        lepen_count <- 0 \n",
    "    }\n",
    "    lepen_p <- lepen_p * ((lepen_count+1)/(lepensum+length(colnames(lepen_dfm))))\n",
    "}\n",
    "\n",
    "(3*lepen_p) / (4*(lepen_p+ macron_p))\n"
   ]
  },
  {
   "cell_type": "markdown",
   "metadata": {},
   "source": [
    "Choose Lepen"
   ]
  },
  {
   "cell_type": "code",
   "execution_count": 388,
   "metadata": {
    "collapsed": false
   },
   "outputs": [
    {
     "data": {
      "text/plain": [
       "Predicted textmodel of type: Naive Bayes\n",
       "\n",
       "    lp(lepen) lp(macron)    Pr(lepen) Pr(macron) Predicted\n",
       "new  -14.4809  -15.26634       0.6869     0.3131     lepen\n"
      ]
     },
     "metadata": {},
     "output_type": "display_data"
    }
   ],
   "source": [
    "# Predict with smoothing with existing package \n",
    "predict(textmodel_NB(Q1_dfm[1:7],training_class,smooth = 1),newdata = Q1_dfm[8])"
   ]
  },
  {
   "cell_type": "markdown",
   "metadata": {},
   "source": [
    "#### After smoothing, the prediction is now for lepen. This makes more sense since other owrds like \"immgration\" or \"culture\" are frequently used by him. "
   ]
  },
  {
   "cell_type": "markdown",
   "metadata": {},
   "source": [
    "## 2 (a)"
   ]
  },
  {
   "cell_type": "markdown",
   "metadata": {},
   "source": [
    "#### No need for any pre-processing for 2(a)"
   ]
  },
  {
   "cell_type": "code",
   "execution_count": 389,
   "metadata": {
    "collapsed": false
   },
   "outputs": [
    {
     "data": {
      "text/html": [
       "<table>\n",
       "<thead><tr><th scope=col>X</th><th scope=col>Text</th><th scope=col>Score</th><th scope=col>Y</th><th scope=col>Anchor_Pos</th><th scope=col>Anchor_Neg</th></tr></thead>\n",
       "<tbody>\n",
       "\t<tr><td> 5249                                                                                                                                                                                                                                                                                         </td><td>My grandchildren have watched this and ICarly and I reluctantly watched as well.  I found that both programs were entertaining and fresh.  Victorious adds the musical element to supplement the light hearted humor.  Definitely not bound for an Emmy but still the silliness is infectious.</td><td>4                                                                                                                                                                                                                                                                                             </td><td>1                                                                                                                                                                                                                                                                                             </td><td>0                                                                                                                                                                                                                                                                                             </td><td>0                                                                                                                                                                                                                                                                                             </td></tr>\n",
       "\t<tr><td> 8679                                                                                                                                                                                                                                                                                         </td><td>I am no longer interested in watching TV dramas that victimize women and children.  If this is the only story the producers have to tell, I'm not going to give it a good rating.                                                                                                             </td><td>1                                                                                                                                                                                                                                                                                             </td><td>0                                                                                                                                                                                                                                                                                             </td><td>0                                                                                                                                                                                                                                                                                             </td><td>1                                                                                                                                                                                                                                                                                             </td></tr>\n",
       "\t<tr><td>27027                                                                                                                                                                                                                                                                                         </td><td>I could not even get through the first 15 minutes of the first episode.  Would you hang out sober in a bar for yuks? Ask any bar tender...                                                                                                                                                    </td><td>1                                                                                                                                                                                                                                                                                             </td><td>0                                                                                                                                                                                                                                                                                             </td><td>0                                                                                                                                                                                                                                                                                             </td><td>1                                                                                                                                                                                                                                                                                             </td></tr>\n",
       "</tbody>\n",
       "</table>\n"
      ],
      "text/latex": [
       "\\begin{tabular}{r|llllll}\n",
       " X & Text & Score & Y & Anchor\\_Pos & Anchor\\_Neg\\\\\n",
       "\\hline\n",
       "\t  5249                                                                                                                                                                                                                                                                                          & My grandchildren have watched this and ICarly and I reluctantly watched as well.  I found that both programs were entertaining and fresh.  Victorious adds the musical element to supplement the light hearted humor.  Definitely not bound for an Emmy but still the silliness is infectious. & 4                                                                                                                                                                                                                                                                                              & 1                                                                                                                                                                                                                                                                                              & 0                                                                                                                                                                                                                                                                                              & 0                                                                                                                                                                                                                                                                                             \\\\\n",
       "\t  8679                                                                                                                                                                                                                                                                                          & I am no longer interested in watching TV dramas that victimize women and children.  If this is the only story the producers have to tell, I'm not going to give it a good rating.                                                                                                              & 1                                                                                                                                                                                                                                                                                              & 0                                                                                                                                                                                                                                                                                              & 0                                                                                                                                                                                                                                                                                              & 1                                                                                                                                                                                                                                                                                             \\\\\n",
       "\t 27027                                                                                                                                                                                                                                                                                          & I could not even get through the first 15 minutes of the first episode.  Would you hang out sober in a bar for yuks? Ask any bar tender...                                                                                                                                                     & 1                                                                                                                                                                                                                                                                                              & 0                                                                                                                                                                                                                                                                                              & 0                                                                                                                                                                                                                                                                                              & 1                                                                                                                                                                                                                                                                                             \\\\\n",
       "\\end{tabular}\n"
      ],
      "text/markdown": [
       "\n",
       "X | Text | Score | Y | Anchor_Pos | Anchor_Neg | \n",
       "|---|---|---|\n",
       "|  5249                                                                                                                                                                                                                                                                                          | My grandchildren have watched this and ICarly and I reluctantly watched as well.  I found that both programs were entertaining and fresh.  Victorious adds the musical element to supplement the light hearted humor.  Definitely not bound for an Emmy but still the silliness is infectious. | 4                                                                                                                                                                                                                                                                                              | 1                                                                                                                                                                                                                                                                                              | 0                                                                                                                                                                                                                                                                                              | 0                                                                                                                                                                                                                                                                                              | \n",
       "|  8679                                                                                                                                                                                                                                                                                          | I am no longer interested in watching TV dramas that victimize women and children.  If this is the only story the producers have to tell, I'm not going to give it a good rating.                                                                                                              | 1                                                                                                                                                                                                                                                                                              | 0                                                                                                                                                                                                                                                                                              | 0                                                                                                                                                                                                                                                                                              | 1                                                                                                                                                                                                                                                                                              | \n",
       "| 27027                                                                                                                                                                                                                                                                                          | I could not even get through the first 15 minutes of the first episode.  Would you hang out sober in a bar for yuks? Ask any bar tender...                                                                                                                                                     | 1                                                                                                                                                                                                                                                                                              | 0                                                                                                                                                                                                                                                                                              | 0                                                                                                                                                                                                                                                                                              | 1                                                                                                                                                                                                                                                                                              | \n",
       "\n",
       "\n"
      ],
      "text/plain": [
       "  X    \n",
       "1  5249\n",
       "2  8679\n",
       "3 27027\n",
       "  Text                                                                                                                                                                                                                                                                                          \n",
       "1 My grandchildren have watched this and ICarly and I reluctantly watched as well.  I found that both programs were entertaining and fresh.  Victorious adds the musical element to supplement the light hearted humor.  Definitely not bound for an Emmy but still the silliness is infectious.\n",
       "2 I am no longer interested in watching TV dramas that victimize women and children.  If this is the only story the producers have to tell, I'm not going to give it a good rating.                                                                                                             \n",
       "3 I could not even get through the first 15 minutes of the first episode.  Would you hang out sober in a bar for yuks? Ask any bar tender...                                                                                                                                                    \n",
       "  Score Y Anchor_Pos Anchor_Neg\n",
       "1 4     1 0          0         \n",
       "2 1     0 0          1         \n",
       "3 1     0 0          1         "
      ]
     },
     "metadata": {},
     "output_type": "display_data"
    }
   ],
   "source": [
    "#load data\n",
    "df.reviews<- read.csv(\"/Users/sunevan/Dropbox/Spring 2017/Text As Data/HW2/amazon_reviews.csv\",stringsAsFactors = F)\n",
    "# recode the label 1/0  \n",
    "df.reviews$Y <- ifelse(df.reviews$Score >mean(df.reviews$Score), 1, 0)\n",
    "# code anchor positive \n",
    "df.reviews$Anchor_Pos<-ifelse(df.reviews$Score ==5 , 1, 0)\n",
    "# code anchor negative\n",
    "df.reviews$Anchor_Neg<-ifelse(df.reviews$Score ==1 , 1, 0)\n",
    "# preview the head\n",
    "head(df.reviews,3)"
   ]
  },
  {
   "cell_type": "markdown",
   "metadata": {},
   "source": [
    "## 2 (b)"
   ]
  },
  {
   "cell_type": "markdown",
   "metadata": {},
   "source": [
    "#### since the negative and positve list doesn't look like is stemed, I will process the data without stemming. However, all the words in both neg/pos dictionary are lowercase and has no stopwords, so I will lower case and remove stopwords"
   ]
  },
  {
   "cell_type": "code",
   "execution_count": 396,
   "metadata": {
    "collapsed": false
   },
   "outputs": [
    {
     "data": {
      "text/html": [
       "<ol class=list-inline>\n",
       "\t<li>'zapped'</li>\n",
       "\t<li>'zaps'</li>\n",
       "\t<li>'zealot'</li>\n",
       "\t<li>'zealous'</li>\n",
       "\t<li>'zealously'</li>\n",
       "\t<li>'zombie'</li>\n",
       "</ol>\n"
      ],
      "text/latex": [
       "\\begin{enumerate*}\n",
       "\\item 'zapped'\n",
       "\\item 'zaps'\n",
       "\\item 'zealot'\n",
       "\\item 'zealous'\n",
       "\\item 'zealously'\n",
       "\\item 'zombie'\n",
       "\\end{enumerate*}\n"
      ],
      "text/markdown": [
       "1. 'zapped'\n",
       "2. 'zaps'\n",
       "3. 'zealot'\n",
       "4. 'zealous'\n",
       "5. 'zealously'\n",
       "6. 'zombie'\n",
       "\n",
       "\n"
      ],
      "text/plain": [
       "[1] \"zapped\"    \"zaps\"      \"zealot\"    \"zealous\"   \"zealously\" \"zombie\"   "
      ]
     },
     "metadata": {},
     "output_type": "display_data"
    }
   ],
   "source": [
    "tail(readLines(\"/Users/sunevan/Dropbox/Spring 2017/Text As Data/HW2/negative-words.txt\"))"
   ]
  },
  {
   "cell_type": "markdown",
   "metadata": {},
   "source": [
    "#### [1]"
   ]
  },
  {
   "cell_type": "code",
   "execution_count": 397,
   "metadata": {
    "collapsed": false
   },
   "outputs": [],
   "source": [
    "\n",
    "# create a negative dictionary\n",
    "negdict <- dictionary(list(neg=readLines(\"/Users/sunevan/Dropbox/Spring 2017/Text As Data/HW2/negative-words.txt\")))\n",
    "# create a dfm of negative words only\n",
    "dfm_neg<-dfm(df.reviews$Text, dictionary=negdict,tolower = TRUE, stem = FALSE, remove = stopwords(\"english\"),removePunct = TRUE)\n",
    "# create a positive dictionary\n",
    "posdict <- dictionary(list(pos=readLines(\"/Users/sunevan/Dropbox/Spring 2017/Text As Data/HW2/positive-words.txt\")))\n",
    "# create a dfm of positive words only\n",
    "dfm_pos<-dfm(df.reviews$Text, dictionary=posdict,tolower = TRUE, stem = FALSE, remove = stopwords(\"english\"),removePunct = TRUE)"
   ]
  },
  {
   "cell_type": "code",
   "execution_count": 401,
   "metadata": {
    "collapsed": false
   },
   "outputs": [],
   "source": [
    "sentiment_score <- matrix(0,ncol=1,nrow=10000)\n",
    "\n",
    "# calculate dichotomous vector by number of positive words minus number of negative words\n",
    "for (i in (1:nrow(sentiment_score))) {\n",
    "  sentiment_score[i]<-dfm_pos[i]-dfm_neg[i]\n",
    "}"
   ]
  },
  {
   "cell_type": "code",
   "execution_count": 484,
   "metadata": {
    "collapsed": false
   },
   "outputs": [
    {
     "data": {
      "text/html": [
       "<table>\n",
       "<tbody>\n",
       "\t<tr><td>1</td></tr>\n",
       "\t<tr><td>1</td></tr>\n",
       "\t<tr><td>1</td></tr>\n",
       "\t<tr><td>1</td></tr>\n",
       "\t<tr><td>1</td></tr>\n",
       "\t<tr><td>1</td></tr>\n",
       "\t<tr><td>0</td></tr>\n",
       "\t<tr><td>0</td></tr>\n",
       "\t<tr><td>1</td></tr>\n",
       "\t<tr><td>0</td></tr>\n",
       "</tbody>\n",
       "</table>\n"
      ],
      "text/latex": [
       "\\begin{tabular}{l}\n",
       "\t 1\\\\\n",
       "\t 1\\\\\n",
       "\t 1\\\\\n",
       "\t 1\\\\\n",
       "\t 1\\\\\n",
       "\t 1\\\\\n",
       "\t 0\\\\\n",
       "\t 0\\\\\n",
       "\t 1\\\\\n",
       "\t 0\\\\\n",
       "\\end{tabular}\n"
      ],
      "text/markdown": [
       "\n",
       "| 1 | \n",
       "| 1 | \n",
       "| 1 | \n",
       "| 1 | \n",
       "| 1 | \n",
       "| 1 | \n",
       "| 0 | \n",
       "| 0 | \n",
       "| 1 | \n",
       "| 0 | \n",
       "\n",
       "\n"
      ],
      "text/plain": [
       "      [,1]\n",
       " [1,] 1   \n",
       " [2,] 1   \n",
       " [3,] 1   \n",
       " [4,] 1   \n",
       " [5,] 1   \n",
       " [6,] 1   \n",
       " [7,] 0   \n",
       " [8,] 0   \n",
       " [9,] 1   \n",
       "[10,] 0   "
      ]
     },
     "metadata": {},
     "output_type": "display_data"
    }
   ],
   "source": [
    "# make it a binary vector (1 - 0 )\n",
    "\n",
    "dichotomous_vector <- ifelse(sentiment_score<0,0,1)\n",
    "head(dichotomous_vector,10)"
   ]
  },
  {
   "cell_type": "markdown",
   "metadata": {},
   "source": [
    "#### [2]"
   ]
  },
  {
   "cell_type": "code",
   "execution_count": 403,
   "metadata": {
    "collapsed": false
   },
   "outputs": [
    {
     "data": {
      "image/png": "[encoded data removed]",
      "text/plain": [
       "Plot with title “Histogram of sentiment_score”"
      ]
     },
     "metadata": {},
     "output_type": "display_data"
    }
   ],
   "source": [
    "\n",
    "hist(sentiment_score,breaks=500) "
   ]
  },
  {
   "cell_type": "code",
   "execution_count": 404,
   "metadata": {
    "collapsed": false
   },
   "outputs": [
    {
     "data": {
      "text/html": [
       "0.8452"
      ],
      "text/latex": [
       "0.8452"
      ],
      "text/markdown": [
       "0.8452"
      ],
      "text/plain": [
       "[1] 0.8452"
      ]
     },
     "metadata": {},
     "output_type": "display_data"
    }
   ],
   "source": [
    "sum(dichotomous_vector)/nrow(dichotomous_vector)"
   ]
  },
  {
   "cell_type": "markdown",
   "metadata": {},
   "source": [
    "#### 84.52 % of reviews have a postive score"
   ]
  },
  {
   "cell_type": "markdown",
   "metadata": {},
   "source": [
    "#### [3]"
   ]
  },
  {
   "cell_type": "code",
   "execution_count": 405,
   "metadata": {
    "collapsed": false
   },
   "outputs": [
    {
     "data": {
      "text/plain": [
       "                  \n",
       "dichotomous_vector    0    1\n",
       "                 0 1291  257\n",
       "                 1 3716 4736"
      ]
     },
     "metadata": {},
     "output_type": "display_data"
    }
   ],
   "source": [
    "\n",
    "#create confusion matrix\n",
    "tab<- table(dichotomous_vector,df.reviews$Y)\n",
    "tab"
   ]
  },
  {
   "cell_type": "code",
   "execution_count": 406,
   "metadata": {
    "collapsed": false
   },
   "outputs": [
    {
     "data": {
      "text/html": [
       "0.6027"
      ],
      "text/latex": [
       "0.6027"
      ],
      "text/markdown": [
       "0.6027"
      ],
      "text/plain": [
       "[1] 0.6027"
      ]
     },
     "metadata": {},
     "output_type": "display_data"
    }
   ],
   "source": [
    "accuracy <- (tab[1,1]+tab[2,2])/sum(tab)\n",
    "accuracy"
   ]
  },
  {
   "cell_type": "code",
   "execution_count": 407,
   "metadata": {
    "collapsed": false
   },
   "outputs": [
    {
     "data": {
      "text/html": [
       "0.560340747752011"
      ],
      "text/latex": [
       "0.560340747752011"
      ],
      "text/markdown": [
       "0.560340747752011"
      ],
      "text/plain": [
       "[1] 0.5603407"
      ]
     },
     "metadata": {},
     "output_type": "display_data"
    }
   ],
   "source": [
    "precision <- tab[2,2] /(tab[2,2]+tab[2,1])\n",
    "precision"
   ]
  },
  {
   "cell_type": "code",
   "execution_count": 408,
   "metadata": {
    "collapsed": false
   },
   "outputs": [
    {
     "data": {
      "text/html": [
       "0.948527939114761"
      ],
      "text/latex": [
       "0.948527939114761"
      ],
      "text/markdown": [
       "0.948527939114761"
      ],
      "text/plain": [
       "[1] 0.9485279"
      ]
     },
     "metadata": {},
     "output_type": "display_data"
    }
   ],
   "source": [
    "recall <- tab[2,2] /(tab[2,2]+tab[1,2])\n",
    "recall"
   ]
  },
  {
   "cell_type": "markdown",
   "metadata": {},
   "source": [
    "#### [4]"
   ]
  },
  {
   "cell_type": "code",
   "execution_count": 409,
   "metadata": {
    "collapsed": false
   },
   "outputs": [],
   "source": [
    "\n",
    "# Add Sentiment Score into DF\n",
    "df.reviews$Sentiment <- sentiment_score"
   ]
  },
  {
   "cell_type": "code",
   "execution_count": 410,
   "metadata": {
    "collapsed": false
   },
   "outputs": [],
   "source": [
    "# Create a df to rank sentiment score\n",
    "df_SentRank<- df.reviews[,c(\"X\",\"Sentiment\")]\n",
    "df_SentRank<- df_SentRank[order(-df_SentRank[,2]), ]\n",
    "df_SentRank$Rank <- seq(1, 10000, by=1)"
   ]
  },
  {
   "cell_type": "code",
   "execution_count": 411,
   "metadata": {
    "collapsed": false
   },
   "outputs": [],
   "source": [
    "# Create a df to rank actual score\n",
    "df_ActRank<- df.reviews[,c(\"X\",\"Score\")]\n",
    "df_ActRank<- df_ActRank[order(-df_ActRank[,2]), ]\n",
    "df_ActRank$Rank <- seq(1, 10000, by=1)"
   ]
  },
  {
   "cell_type": "code",
   "execution_count": 413,
   "metadata": {
    "collapsed": false
   },
   "outputs": [
    {
     "data": {
      "text/html": [
       "27389662"
      ],
      "text/latex": [
       "27389662"
      ],
      "text/markdown": [
       "27389662"
      ],
      "text/plain": [
       "[1] 27389662"
      ]
     },
     "metadata": {},
     "output_type": "display_data"
    }
   ],
   "source": [
    "RankSum = 0\n",
    "# loop through Actual rank to find the coropsonding sentiment rank by the key X \n",
    "for (i in (1:nrow(df_ActRank))) {\n",
    "  RankSum = RankSum + abs (df_SentRank[which(df_SentRank$X ==df_ActRank$X[i] ),]$Rank - df_ActRank[which(df_ActRank$X ==df_ActRank$X[i] ),]$Rank)   \n",
    "}\n",
    "RankSum"
   ]
  },
  {
   "cell_type": "markdown",
   "metadata": {},
   "source": [
    "## 2 (c)"
   ]
  },
  {
   "cell_type": "markdown",
   "metadata": {},
   "source": [
    "#### [1] - uniform "
   ]
  },
  {
   "cell_type": "code",
   "execution_count": 415,
   "metadata": {
    "collapsed": true
   },
   "outputs": [],
   "source": [
    "\n",
    "\n",
    "# df.reviews is the original dataset (the only change is it is now appended a sentiment score from previous question)\n",
    "\n",
    "# shuffle data (since it is a supervised test, I will rather shuffle data first)\n",
    "df1 <- df.reviews[sample(nrow(df.reviews)),]"
   ]
  },
  {
   "cell_type": "markdown",
   "metadata": {},
   "source": [
    "#### I chose to stem the words for this task. For example, running and run, I think it is very close to each other and I want them to represent the same probabiliy in this case."
   ]
  },
  {
   "cell_type": "code",
   "execution_count": 7,
   "metadata": {
    "collapsed": false
   },
   "outputs": [
    {
     "ename": "ERROR",
     "evalue": "Error in dfm(df1$Text, tolower = FALSE, stem = FALSE, remove = stopwords(\"english\"), : object 'df1' not found\n",
     "output_type": "error",
     "traceback": [
      "Error in dfm(df1$Text, tolower = FALSE, stem = FALSE, remove = stopwords(\"english\"), : object 'df1' not found\nTraceback:\n",
      "1. dfm(df1$Text, tolower = FALSE, stem = FALSE, remove = stopwords(\"english\"), \n .     removePunct = TRUE)"
     ]
    }
   ],
   "source": [
    "# generate dfm of all text \n",
    "dfm_df <- dfm(df1$Text,tolower = FALSE, stem = FALSE, remove = stopwords(\"english\"),removePunct = TRUE)\n",
    "# training class\n",
    "training_class <-factor(df1$Y[1:2000],ordered = TRUE)\n",
    "# predict function \n",
    "pred<- predict(textmodel_NB(dfm_df[1:2000],training_class,smooth = 1, prior = \"uniform\"),newdata =dfm_df[2001:10000]) "
   ]
  },
  {
   "cell_type": "code",
   "execution_count": 417,
   "metadata": {
    "collapsed": false
   },
   "outputs": [
    {
     "data": {
      "text/plain": [
       "   \n",
       "       0    1\n",
       "  0 3338 1296\n",
       "  1  677 2689"
      ]
     },
     "metadata": {},
     "output_type": "display_data"
    }
   ],
   "source": [
    "tab<- table(pred$nb.predicted,df1$Y[2001:10000])\n",
    "tab"
   ]
  },
  {
   "cell_type": "code",
   "execution_count": 418,
   "metadata": {
    "collapsed": false
   },
   "outputs": [
    {
     "data": {
      "text/html": [
       "0.753375"
      ],
      "text/latex": [
       "0.753375"
      ],
      "text/markdown": [
       "0.753375"
      ],
      "text/plain": [
       "[1] 0.753375"
      ]
     },
     "metadata": {},
     "output_type": "display_data"
    }
   ],
   "source": [
    "accuracy <- (tab[1,1]+tab[2,2])/sum(tab)\n",
    "accuracy"
   ]
  },
  {
   "cell_type": "code",
   "execution_count": 419,
   "metadata": {
    "collapsed": false
   },
   "outputs": [
    {
     "data": {
      "text/html": [
       "0.798871063576946"
      ],
      "text/latex": [
       "0.798871063576946"
      ],
      "text/markdown": [
       "0.798871063576946"
      ],
      "text/plain": [
       "[1] 0.7988711"
      ]
     },
     "metadata": {},
     "output_type": "display_data"
    }
   ],
   "source": [
    "precision <- tab[2,2] /(tab[2,2]+tab[2,1])\n",
    "precision"
   ]
  },
  {
   "cell_type": "code",
   "execution_count": 420,
   "metadata": {
    "collapsed": false
   },
   "outputs": [
    {
     "data": {
      "text/html": [
       "0.674780426599749"
      ],
      "text/latex": [
       "0.674780426599749"
      ],
      "text/markdown": [
       "0.674780426599749"
      ],
      "text/plain": [
       "[1] 0.6747804"
      ]
     },
     "metadata": {},
     "output_type": "display_data"
    }
   ],
   "source": [
    "recall <- tab[2,2] /(tab[2,2]+tab[1,2])\n",
    "recall"
   ]
  },
  {
   "cell_type": "markdown",
   "metadata": {},
   "source": [
    "#### [2] - docfreq"
   ]
  },
  {
   "cell_type": "code",
   "execution_count": 421,
   "metadata": {
    "collapsed": true
   },
   "outputs": [],
   "source": [
    "\n",
    "# predict function \n",
    "pred<- predict(textmodel_NB(dfm_df[1:2000],training_class,smooth = 1, prior = \"docfreq\"),newdata =dfm_df[2001:10000]) "
   ]
  },
  {
   "cell_type": "code",
   "execution_count": 422,
   "metadata": {
    "collapsed": false
   },
   "outputs": [
    {
     "data": {
      "text/plain": [
       "   \n",
       "       0    1\n",
       "  0 3333 1289\n",
       "  1  682 2696"
      ]
     },
     "metadata": {},
     "output_type": "display_data"
    }
   ],
   "source": [
    "tab<- table(pred$nb.predicted,df1$Y[2001:10000])\n",
    "tab"
   ]
  },
  {
   "cell_type": "code",
   "execution_count": 423,
   "metadata": {
    "collapsed": false
   },
   "outputs": [
    {
     "data": {
      "text/html": [
       "0.753625"
      ],
      "text/latex": [
       "0.753625"
      ],
      "text/markdown": [
       "0.753625"
      ],
      "text/plain": [
       "[1] 0.753625"
      ]
     },
     "metadata": {},
     "output_type": "display_data"
    }
   ],
   "source": [
    "accuracy <- (tab[1,1]+tab[2,2])/sum(tab)\n",
    "accuracy"
   ]
  },
  {
   "cell_type": "code",
   "execution_count": 424,
   "metadata": {
    "collapsed": false
   },
   "outputs": [
    {
     "data": {
      "text/html": [
       "0.798105387803434"
      ],
      "text/latex": [
       "0.798105387803434"
      ],
      "text/markdown": [
       "0.798105387803434"
      ],
      "text/plain": [
       "[1] 0.7981054"
      ]
     },
     "metadata": {},
     "output_type": "display_data"
    }
   ],
   "source": [
    "precision <- tab[2,2] /(tab[2,2]+tab[2,1])\n",
    "precision"
   ]
  },
  {
   "cell_type": "code",
   "execution_count": 425,
   "metadata": {
    "collapsed": false
   },
   "outputs": [
    {
     "data": {
      "text/html": [
       "0.676537013801757"
      ],
      "text/latex": [
       "0.676537013801757"
      ],
      "text/markdown": [
       "0.676537013801757"
      ],
      "text/plain": [
       "[1] 0.676537"
      ]
     },
     "metadata": {},
     "output_type": "display_data"
    }
   ],
   "source": [
    "recall <- tab[2,2] /(tab[2,2]+tab[1,2])\n",
    "recall"
   ]
  },
  {
   "cell_type": "markdown",
   "metadata": {},
   "source": [
    "#### I will assume docfreq may have a slightly higher accuracy, but not guarantted. The reason is i don't know if all these reviews were for the same or similar product. If these reviews are randomly for any product on amazon, i think using docfreq as prior wouldn't help to make it more accuracy (since the chance of having a word appeared in any review now becomes almost random). "
   ]
  },
  {
   "cell_type": "markdown",
   "metadata": {
    "collapsed": true
   },
   "source": [
    "#### [3]\n",
    "#### It is the same as question 1, without smoothing, new word that doesn't exist in the training set will be counted as 0 probabiliy. So, the overall probability will be 0 for that review."
   ]
  },
  {
   "cell_type": "markdown",
   "metadata": {},
   "source": [
    "## 2 (d)"
   ]
  },
  {
   "cell_type": "code",
   "execution_count": 426,
   "metadata": {
    "collapsed": false
   },
   "outputs": [],
   "source": [
    "# Generate a dataframe only has anchor positive / negative \n",
    "anchor_pos <- df.reviews[which(df.reviews$Anchor_Pos==1), ]\n",
    "anchor_neg <- df.reviews[which(df.reviews$Anchor_Neg==1), ]"
   ]
  },
  {
   "cell_type": "markdown",
   "metadata": {},
   "source": [
    "#### same process as 2(c). "
   ]
  },
  {
   "cell_type": "code",
   "execution_count": 428,
   "metadata": {
    "collapsed": false
   },
   "outputs": [],
   "source": [
    "# Generate dfm in matrix \n",
    "anchor_pos_dfm <- as.matrix(dfm(anchor_pos$Text,tolower = TRUE, stem = FALSE, remove = stopwords(\"english\"),removePunct = TRUE))\n",
    "anchor_neg_dfm <- as.matrix(dfm(anchor_neg$Text,tolower = TRUE, stem = FALSE, remove = stopwords(\"english\"),removePunct = TRUE))\n"
   ]
  },
  {
   "cell_type": "code",
   "execution_count": 430,
   "metadata": {
    "collapsed": false
   },
   "outputs": [],
   "source": [
    "# Generate a list of all the words in anchor positive and negative reviews,\n",
    "# which is a list of all the words to get all wordscore \n",
    "all_words <- unique(c(colnames(anchor_pos_dfm),colnames(anchor_neg_dfm)))\n",
    "\n",
    "# total number of words in positive reviews and negative reviews \n",
    "total_pos <- sum(anchor_pos_dfm )\n",
    "total_neg <- sum(anchor_neg_dfm )\n",
    "\n",
    "# create a matrix for all the postive and negative probability \n",
    "prob <- matrix (0,ncol = 2, nrow = length(all_words))"
   ]
  },
  {
   "cell_type": "code",
   "execution_count": 431,
   "metadata": {
    "collapsed": false
   },
   "outputs": [],
   "source": [
    "# use a for loop to search if a praticular word exists in the positive document, \n",
    "# if yes, then calculate the (total number of apperance / total word number in positive)\n",
    "# else, it is 0 \n",
    "for (i in (1:length(all_words))) {\n",
    "    pos_count <- try(sum(anchor_pos_dfm[,all_words[i]]))\n",
    "    if (class(pos_count) == \"try-error\" ) {\n",
    "        pos_count <- 0 \n",
    "    }\n",
    "    prob[i,1] <- pos_count/total_pos    \n",
    "}"
   ]
  },
  {
   "cell_type": "code",
   "execution_count": 433,
   "metadata": {
    "collapsed": false
   },
   "outputs": [],
   "source": [
    "# same logic for negative words\n",
    "for (i in (1:length(all_words))) {\n",
    "    neg_count <- try(sum(anchor_neg_dfm[,all_words[i]]))\n",
    "    if (class(neg_count) == \"try-error\" ) {\n",
    "        neg_count <- 0 \n",
    "    }\n",
    "    prob[i,2] <- neg_count/total_neg    \n",
    "}"
   ]
  },
  {
   "cell_type": "code",
   "execution_count": 435,
   "metadata": {
    "collapsed": false
   },
   "outputs": [],
   "source": [
    "# create a dataframe\n",
    "df_prob<- as.data.frame(prob, row.names = all_words)\n",
    "colnames(df_prob) <- c(\"pos_prob\", \"neg_prob\")"
   ]
  },
  {
   "cell_type": "code",
   "execution_count": 436,
   "metadata": {
    "collapsed": true
   },
   "outputs": [],
   "source": [
    "# calculate positive and negative probabiliy \n",
    "df_prob$P_i_Pos <- with(df_prob,(pos_prob/(pos_prob+neg_prob)))\n",
    "df_prob$P_i_Neg <- with(df_prob,(neg_prob/(pos_prob+neg_prob)))"
   ]
  },
  {
   "cell_type": "code",
   "execution_count": 437,
   "metadata": {
    "collapsed": false
   },
   "outputs": [],
   "source": [
    "# calculate the wordscore\n",
    "df_prob$wordscore <- with(df_prob,(P_i_Pos-P_i_Neg))"
   ]
  },
  {
   "cell_type": "code",
   "execution_count": 438,
   "metadata": {
    "collapsed": false
   },
   "outputs": [
    {
     "data": {
      "text/html": [
       "9439"
      ],
      "text/latex": [
       "9439"
      ],
      "text/markdown": [
       "9439"
      ],
      "text/plain": [
       "[1] 9439"
      ]
     },
     "metadata": {},
     "output_type": "display_data"
    }
   ],
   "source": [
    "# total number of pure positive word\n",
    "extrem_pos <- df_prob[which(df_prob$wordscore == 1),]\n",
    "length(extrem_pos$wordscore)"
   ]
  },
  {
   "cell_type": "code",
   "execution_count": 439,
   "metadata": {
    "collapsed": false
   },
   "outputs": [
    {
     "data": {
      "text/html": [
       "7250"
      ],
      "text/latex": [
       "7250"
      ],
      "text/markdown": [
       "7250"
      ],
      "text/plain": [
       "[1] 7250"
      ]
     },
     "metadata": {},
     "output_type": "display_data"
    }
   ],
   "source": [
    "# total number of pure negative word\n",
    "extrem_neg <- df_prob[which(df_prob$wordscore == -1),]\n",
    "length(extrem_neg$wordscore)"
   ]
  },
  {
   "cell_type": "code",
   "execution_count": 440,
   "metadata": {
    "collapsed": false,
    "scrolled": true
   },
   "outputs": [
    {
     "data": {
      "text/html": [
       "<table>\n",
       "<thead><tr><th></th><th scope=col>pos_prob</th><th scope=col>neg_prob</th><th scope=col>P_i_Pos</th><th scope=col>P_i_Neg</th><th scope=col>wordscore</th></tr></thead>\n",
       "<tbody>\n",
       "\t<tr><th scope=row>poirot</th><td>0.0003155229</td><td>0           </td><td>1           </td><td>0           </td><td>1           </td></tr>\n",
       "</tbody>\n",
       "</table>\n"
      ],
      "text/latex": [
       "\\begin{tabular}{r|lllll}\n",
       "  & pos\\_prob & neg\\_prob & P\\_i\\_Pos & P\\_i\\_Neg & wordscore\\\\\n",
       "\\hline\n",
       "\tpoirot & 0.0003155229 & 0            & 1            & 0            & 1           \\\\\n",
       "\\end{tabular}\n"
      ],
      "text/markdown": [
       "\n",
       "| <!--/--> | pos_prob | neg_prob | P_i_Pos | P_i_Neg | wordscore | \n",
       "|---|\n",
       "| poirot | 0.0003155229 | 0            | 1            | 0            | 1            | \n",
       "\n",
       "\n"
      ],
      "text/plain": [
       "       pos_prob     neg_prob P_i_Pos P_i_Neg wordscore\n",
       "poirot 0.0003155229 0        1       0       1        "
      ]
     },
     "metadata": {},
     "output_type": "display_data"
    }
   ],
   "source": [
    "# most extrem postive word \n",
    "extrem_pos[which(extrem_pos$pos_prob == max(extrem_pos$pos_prob)),]"
   ]
  },
  {
   "cell_type": "code",
   "execution_count": 441,
   "metadata": {
    "collapsed": false
   },
   "outputs": [
    {
     "data": {
      "text/html": [
       "<table>\n",
       "<thead><tr><th></th><th scope=col>pos_prob</th><th scope=col>neg_prob</th><th scope=col>P_i_Pos</th><th scope=col>P_i_Neg</th><th scope=col>wordscore</th></tr></thead>\n",
       "<tbody>\n",
       "\t<tr><th scope=row>zero</th><td>0          </td><td>0.000373781</td><td>0          </td><td>1          </td><td>-1         </td></tr>\n",
       "</tbody>\n",
       "</table>\n"
      ],
      "text/latex": [
       "\\begin{tabular}{r|lllll}\n",
       "  & pos\\_prob & neg\\_prob & P\\_i\\_Pos & P\\_i\\_Neg & wordscore\\\\\n",
       "\\hline\n",
       "\tzero & 0           & 0.000373781 & 0           & 1           & -1         \\\\\n",
       "\\end{tabular}\n"
      ],
      "text/markdown": [
       "\n",
       "| <!--/--> | pos_prob | neg_prob | P_i_Pos | P_i_Neg | wordscore | \n",
       "|---|\n",
       "| zero | 0           | 0.000373781 | 0           | 1           | -1          | \n",
       "\n",
       "\n"
      ],
      "text/plain": [
       "     pos_prob neg_prob    P_i_Pos P_i_Neg wordscore\n",
       "zero 0        0.000373781 0       1       -1       "
      ]
     },
     "metadata": {},
     "output_type": "display_data"
    }
   ],
   "source": [
    "# most extrem negative word\n",
    "extrem_neg[which(extrem_neg$neg_prob == max(extrem_neg$neg_prob)),]"
   ]
  },
  {
   "cell_type": "markdown",
   "metadata": {},
   "source": [
    "#### [2]"
   ]
  },
  {
   "cell_type": "code",
   "execution_count": 443,
   "metadata": {
    "collapsed": true
   },
   "outputs": [],
   "source": [
    "\n",
    "# reload the whole data\n",
    "reviews_dfm <- as.matrix(dfm(df.reviews$Text,tolower = TRUE, stem = FALSE, remove = stopwords(\"english\"),removePunct = TRUE))"
   ]
  },
  {
   "cell_type": "code",
   "execution_count": 444,
   "metadata": {
    "collapsed": false
   },
   "outputs": [],
   "source": [
    "# remove all the words that don't exist in the wordscore matrix \n",
    "reviews_dfm <- reviews_dfm[ ,which((colnames(reviews_dfm) %in% rownames(df_prob))==TRUE)] "
   ]
  },
  {
   "cell_type": "code",
   "execution_count": 445,
   "metadata": {
    "collapsed": false
   },
   "outputs": [],
   "source": [
    "# create a vector to store wordscore result \n",
    "wordscore_review <- matrix (0,ncol = 1, nrow = nrow(reviews_dfm))\n",
    "# create a list of reviews_dfm colnames (which are all the words that have wordscore)\n",
    "reviews_dfm_colname<-colnames(reviews_dfm)"
   ]
  },
  {
   "cell_type": "code",
   "execution_count": 446,
   "metadata": {
    "collapsed": false
   },
   "outputs": [],
   "source": [
    "# for every text in the reviews_dfm\n",
    "# for every word in each text\n",
    "# calculate the number of times / total number of words in that text * wordscore of that word \n",
    "\n",
    "for (i in (1:nrow(reviews_dfm))){\n",
    "    prob <- 0 \n",
    "    numberwords <- sum(reviews_dfm[i,])\n",
    "    for (j in (1:length(reviews_dfm_colname))){        \n",
    "        if (reviews_dfm[i,j]==0){\n",
    "            prob <- prob+0 \n",
    "\n",
    "        }\n",
    "        else {\n",
    "            word_score<- df_prob[which(rownames(df_prob)==reviews_dfm_colname[j]),]$wordscore\n",
    "            prob <- prob + (reviews_dfm[i,j]/numberwords)*word_score   \n",
    "\n",
    "        }            \n",
    "        \n",
    "    }\n",
    "    wordscore_review[i] <- prob   \n",
    "}"
   ]
  },
  {
   "cell_type": "code",
   "execution_count": 447,
   "metadata": {
    "collapsed": false
   },
   "outputs": [],
   "source": [
    "df.reviews$wordscore <- wordscore_review"
   ]
  },
  {
   "cell_type": "code",
   "execution_count": 448,
   "metadata": {
    "collapsed": true
   },
   "outputs": [],
   "source": [
    "df_SentRank1 <- df.reviews[,c(\"X\",\"wordscore\")]\n",
    "df_SentRank1 <- df_SentRank1[order(-df_SentRank1[,2]),]\n",
    "df_SentRank1$Rank <- seq(1,10000,by =1 )"
   ]
  },
  {
   "cell_type": "code",
   "execution_count": 449,
   "metadata": {
    "collapsed": false
   },
   "outputs": [
    {
     "data": {
      "text/html": [
       "14371636"
      ],
      "text/latex": [
       "14371636"
      ],
      "text/markdown": [
       "14371636"
      ],
      "text/plain": [
       "[1] 14371636"
      ]
     },
     "metadata": {},
     "output_type": "display_data"
    }
   ],
   "source": [
    "RankSum1 = 0\n",
    "\n",
    "for (i in (1:nrow(df_ActRank))) {\n",
    "  RankSum1 = RankSum1 + abs (df_SentRank1[which(df_SentRank1$X ==df_ActRank$X[i] ),]$Rank - df_ActRank[which(df_ActRank$X ==df_ActRank$X[i] ),]$Rank)   \n",
    "}\n",
    "RankSum1"
   ]
  },
  {
   "cell_type": "markdown",
   "metadata": {},
   "source": [
    "#### It looks that the wordscore has a better rank. However, i am not sure if this is a fair evulation because the actual score is only 1, 2, 3, 4, 5, so the rank can be 1 or 1000 for the same score, which is pretty random/"
   ]
  },
  {
   "cell_type": "markdown",
   "metadata": {},
   "source": [
    "## 2 (e)"
   ]
  },
  {
   "cell_type": "markdown",
   "metadata": {},
   "source": [
    "#### [1]"
   ]
  },
  {
   "cell_type": "markdown",
   "metadata": {},
   "source": [
    "#### I think SVM and NB use all available data, while dictionary and wordscore only use partial data. "
   ]
  },
  {
   "cell_type": "code",
   "execution_count": 178,
   "metadata": {
    "collapsed": false
   },
   "outputs": [
    {
     "name": "stderr",
     "output_type": "stream",
     "text": [
      "Updating HTML index of packages in '.Library'\n",
      "Making 'packages.html' ... done\n",
      "Updating HTML index of packages in '.Library'\n",
      "Making 'packages.html' ... done\n",
      "Updating HTML index of packages in '.Library'\n",
      "Making 'packages.html' ... done\n"
     ]
    }
   ],
   "source": [
    "install.packages(\"tm\")\n",
    "install.packages(\"NLP\")\n",
    "install.packages(\"https://cran.r-project.org/bin/windows/contrib/3.4/prodlim_1.6.1.zip\",repos = NULL, method = \"libcurl\")\n",
    "install.packages(\"RTextTools\")"
   ]
  },
  {
   "cell_type": "code",
   "execution_count": 450,
   "metadata": {
    "collapsed": false
   },
   "outputs": [],
   "source": [
    "library(NLP)\n",
    "library(tm)\n",
    "library(RTextTools)\n",
    "library(wordcloud)"
   ]
  },
  {
   "cell_type": "markdown",
   "metadata": {},
   "source": [
    "#### [2]"
   ]
  },
  {
   "cell_type": "code",
   "execution_count": 451,
   "metadata": {
    "collapsed": true
   },
   "outputs": [],
   "source": [
    "\n",
    "#reload data \n",
    "df.reviews<- read.csv(\"/Users/sunevan/Dropbox/Spring 2017/Text As Data/HW2/amazon_reviews.csv\",stringsAsFactors = F)\n",
    "# recode the label 1/0  \n",
    "df.reviews$Y <- ifelse(df.reviews$Score >mean(df.reviews$Score), 1, 0)\n",
    "# code anchor positive \n",
    "df.reviews$Anchor_Pos<-ifelse(df.reviews$Score ==5 , 1, 0)\n",
    "# code anchor negative\n",
    "df.reviews$Anchor_Neg<-ifelse(df.reviews$Score ==1 , 1, 0)\n",
    "df.reviews<- df.reviews[1:1000,]"
   ]
  },
  {
   "cell_type": "markdown",
   "metadata": {},
   "source": [
    "#### Same as previous question, stem word and and remove puncutation"
   ]
  },
  {
   "cell_type": "code",
   "execution_count": 452,
   "metadata": {
    "collapsed": false,
    "scrolled": true
   },
   "outputs": [],
   "source": [
    "dtm  <- create_matrix(df.reviews$Text, language=\"english\", stemWords = TRUE,\n",
    "                      weighting = weightTfIdf, removePunctuation = TRUE)"
   ]
  },
  {
   "cell_type": "code",
   "execution_count": 453,
   "metadata": {
    "collapsed": false
   },
   "outputs": [],
   "source": [
    "container <- create_container(dtm, t(df.reviews$Y), trainSize=1:length(df.reviews$Y),\n",
    "                              virgin=FALSE)"
   ]
  },
  {
   "cell_type": "code",
   "execution_count": 454,
   "metadata": {
    "collapsed": false
   },
   "outputs": [
    {
     "name": "stdout",
     "output_type": "stream",
     "text": [
      "Fold 1 Out of Sample Accuracy = 0.9800995\n",
      "Fold 2 Out of Sample Accuracy = 0.96\n",
      "Fold 3 Out of Sample Accuracy = 0.9624413\n",
      "Fold 4 Out of Sample Accuracy = 0.974026\n",
      "Fold 5 Out of Sample Accuracy = 0.9689922\n"
     ]
    }
   ],
   "source": [
    "cv.svm <- cross_validate(container, nfold=5, algorithm = 'SVM', kernel = 'linear')"
   ]
  },
  {
   "cell_type": "code",
   "execution_count": 455,
   "metadata": {
    "collapsed": true
   },
   "outputs": [],
   "source": [
    "train_test_size <- seq(0.1, 0.9, by = 0.1)\n",
    "SVM_accuracy <- matrix (0,ncol = 1, nrow = length(train_test_size))"
   ]
  },
  {
   "cell_type": "code",
   "execution_count": 456,
   "metadata": {
    "collapsed": false
   },
   "outputs": [
    {
     "name": "stdout",
     "output_type": "stream",
     "text": [
      "Fold 1 Out of Sample Accuracy = 0.8058252\n",
      "Fold 2 Out of Sample Accuracy = 0.8172589\n",
      "Fold 3 Out of Sample Accuracy = 0.8121547\n",
      "Fold 4 Out of Sample Accuracy = 0.8599034\n",
      "Fold 5 Out of Sample Accuracy = 0.8190476\n",
      "Fold 1 Out of Sample Accuracy = 0.8029557\n",
      "Fold 2 Out of Sample Accuracy = 0.8578947\n",
      "Fold 3 Out of Sample Accuracy = 0.8028169\n",
      "Fold 4 Out of Sample Accuracy = 0.8481675\n",
      "Fold 5 Out of Sample Accuracy = 0.8872549\n",
      "Fold 1 Out of Sample Accuracy = 0.8243902\n",
      "Fold 2 Out of Sample Accuracy = 0.8121827\n",
      "Fold 3 Out of Sample Accuracy = 0.8229665\n",
      "Fold 4 Out of Sample Accuracy = 0.8274112\n",
      "Fold 5 Out of Sample Accuracy = 0.8497409\n",
      "Fold 1 Out of Sample Accuracy = 0.7673267\n",
      "Fold 2 Out of Sample Accuracy = 0.8396226\n",
      "Fold 3 Out of Sample Accuracy = 0.8638743\n",
      "Fold 4 Out of Sample Accuracy = 0.8248848\n",
      "Fold 5 Out of Sample Accuracy = 0.8212291\n",
      "Fold 1 Out of Sample Accuracy = 0.8311111\n",
      "Fold 2 Out of Sample Accuracy = 0.8502674\n",
      "Fold 3 Out of Sample Accuracy = 0.8461538\n",
      "Fold 4 Out of Sample Accuracy = 0.8297872\n",
      "Fold 5 Out of Sample Accuracy = 0.8445596\n",
      "Fold 1 Out of Sample Accuracy = 0.8599034\n",
      "Fold 2 Out of Sample Accuracy = 0.8010753\n",
      "Fold 3 Out of Sample Accuracy = 0.8302752\n",
      "Fold 4 Out of Sample Accuracy = 0.8341463\n",
      "Fold 5 Out of Sample Accuracy = 0.8378378\n",
      "Fold 1 Out of Sample Accuracy = 0.8031088\n",
      "Fold 2 Out of Sample Accuracy = 0.7947368\n",
      "Fold 3 Out of Sample Accuracy = 0.8380952\n",
      "Fold 4 Out of Sample Accuracy = 0.8571429\n",
      "Fold 5 Out of Sample Accuracy = 0.8490566\n",
      "Fold 1 Out of Sample Accuracy = 0.8599034\n",
      "Fold 2 Out of Sample Accuracy = 0.8210526\n",
      "Fold 3 Out of Sample Accuracy = 0.7904762\n",
      "Fold 4 Out of Sample Accuracy = 0.8181818\n",
      "Fold 5 Out of Sample Accuracy = 0.8571429\n",
      "Fold 1 Out of Sample Accuracy = 0.7873563\n",
      "Fold 2 Out of Sample Accuracy = 0.8172589\n",
      "Fold 3 Out of Sample Accuracy = 0.8465347\n",
      "Fold 4 Out of Sample Accuracy = 0.8207547\n",
      "Fold 5 Out of Sample Accuracy = 0.8611111\n"
     ]
    },
    {
     "data": {
      "text/html": [
       "<table>\n",
       "<tbody>\n",
       "\t<tr><td>0.8228380</td></tr>\n",
       "\t<tr><td>0.8398179</td></tr>\n",
       "\t<tr><td>0.8273383</td></tr>\n",
       "\t<tr><td>0.8233875</td></tr>\n",
       "\t<tr><td>0.8403758</td></tr>\n",
       "\t<tr><td>0.8326476</td></tr>\n",
       "\t<tr><td>0.8284281</td></tr>\n",
       "\t<tr><td>0.8293514</td></tr>\n",
       "\t<tr><td>0.8266031</td></tr>\n",
       "</tbody>\n",
       "</table>\n"
      ],
      "text/latex": [
       "\\begin{tabular}{l}\n",
       "\t 0.8228380\\\\\n",
       "\t 0.8398179\\\\\n",
       "\t 0.8273383\\\\\n",
       "\t 0.8233875\\\\\n",
       "\t 0.8403758\\\\\n",
       "\t 0.8326476\\\\\n",
       "\t 0.8284281\\\\\n",
       "\t 0.8293514\\\\\n",
       "\t 0.8266031\\\\\n",
       "\\end{tabular}\n"
      ],
      "text/markdown": [
       "\n",
       "| 0.8228380 | \n",
       "| 0.8398179 | \n",
       "| 0.8273383 | \n",
       "| 0.8233875 | \n",
       "| 0.8403758 | \n",
       "| 0.8326476 | \n",
       "| 0.8284281 | \n",
       "| 0.8293514 | \n",
       "| 0.8266031 | \n",
       "\n",
       "\n"
      ],
      "text/plain": [
       "      [,1]     \n",
       " [1,] 0.8228380\n",
       " [2,] 0.8398179\n",
       " [3,] 0.8273383\n",
       " [4,] 0.8233875\n",
       " [5,] 0.8403758\n",
       " [6,] 0.8326476\n",
       " [7,] 0.8284281\n",
       " [8,] 0.8293514\n",
       " [9,] 0.8266031"
      ]
     },
     "metadata": {},
     "output_type": "display_data"
    }
   ],
   "source": [
    "for (i in (1:nrow(SVM_accuracy))) {\n",
    "    training_break <- as.integer(train_test_size[i]*nrow(df.reviews))\n",
    "    container<- create_container(dtm, t(df.reviews$Y), trainSize=1:training_break,\n",
    "                                   testSize=training_break:nrow(df.reviews), virgin=FALSE)\n",
    "    cv.svm <- cross_validate(container, nfold=5, algorithm = 'SVM', kernel = 'linear')\n",
    "    SVM_accuracy[i]<- cv.svm$meanAccuracy  \n",
    "}\n",
    "SVM_accuracy"
   ]
  },
  {
   "cell_type": "code",
   "execution_count": 457,
   "metadata": {
    "collapsed": false
   },
   "outputs": [
    {
     "data": {
      "text/html": [
       "0.840375831295777"
      ],
      "text/latex": [
       "0.840375831295777"
      ],
      "text/markdown": [
       "0.840375831295777"
      ],
      "text/plain": [
       "[1] 0.8403758"
      ]
     },
     "metadata": {},
     "output_type": "display_data"
    }
   ],
   "source": [
    "max(SVM_accuracy)"
   ]
  },
  {
   "cell_type": "markdown",
   "metadata": {},
   "source": [
    "#### When I used 50%, it gets max SVM accuracy. However, it seems that the ration is not that important since the accuracy is pretty close to each other."
   ]
  },
  {
   "cell_type": "markdown",
   "metadata": {},
   "source": [
    "#### [3]\n",
    "#### I guess linear will be better since text analysis already has a large number of features. "
   ]
  },
  {
   "cell_type": "code",
   "execution_count": 458,
   "metadata": {
    "collapsed": false
   },
   "outputs": [
    {
     "name": "stdout",
     "output_type": "stream",
     "text": [
      "Fold 1 Out of Sample Accuracy = 0.7953488\n",
      "Fold 2 Out of Sample Accuracy = 0.785\n",
      "Fold 3 Out of Sample Accuracy = 0.8010471\n",
      "Fold 4 Out of Sample Accuracy = 0.7525773\n",
      "Fold 5 Out of Sample Accuracy = 0.7960199\n",
      "Fold 1 Out of Sample Accuracy = 0.825\n",
      "Fold 2 Out of Sample Accuracy = 0.7759563\n",
      "Fold 3 Out of Sample Accuracy = 0.7868852\n",
      "Fold 4 Out of Sample Accuracy = 0.7382199\n",
      "Fold 5 Out of Sample Accuracy = 0.7941176\n",
      "Fold 1 Out of Sample Accuracy = 0.761658\n",
      "Fold 2 Out of Sample Accuracy = 0.8252427\n",
      "Fold 3 Out of Sample Accuracy = 0.7723214\n",
      "Fold 4 Out of Sample Accuracy = 0.7574257\n",
      "Fold 5 Out of Sample Accuracy = 0.8181818\n",
      "Fold 1 Out of Sample Accuracy = 0.8232558\n",
      "Fold 2 Out of Sample Accuracy = 0.7526316\n",
      "Fold 3 Out of Sample Accuracy = 0.7703349\n",
      "Fold 4 Out of Sample Accuracy = 0.7638191\n",
      "Fold 5 Out of Sample Accuracy = 0.8191489\n",
      "Fold 1 Out of Sample Accuracy = 0.7724868\n",
      "Fold 2 Out of Sample Accuracy = 0.7945946\n",
      "Fold 3 Out of Sample Accuracy = 0.8165138\n",
      "Fold 4 Out of Sample Accuracy = 0.7810945\n",
      "Fold 5 Out of Sample Accuracy = 0.7644231\n",
      "Fold 1 Out of Sample Accuracy = 0.7511737\n",
      "Fold 2 Out of Sample Accuracy = 0.7902439\n",
      "Fold 3 Out of Sample Accuracy = 0.7529412\n",
      "Fold 4 Out of Sample Accuracy = 0.8067633\n",
      "Fold 5 Out of Sample Accuracy = 0.8252427\n",
      "Fold 1 Out of Sample Accuracy = 0.7738693\n",
      "Fold 2 Out of Sample Accuracy = 0.8074866\n",
      "Fold 3 Out of Sample Accuracy = 0.7658537\n",
      "Fold 4 Out of Sample Accuracy = 0.7927928\n",
      "Fold 5 Out of Sample Accuracy = 0.7925532\n",
      "Fold 1 Out of Sample Accuracy = 0.7837838\n",
      "Fold 2 Out of Sample Accuracy = 0.7889447\n",
      "Fold 3 Out of Sample Accuracy = 0.7512195\n",
      "Fold 4 Out of Sample Accuracy = 0.8139535\n",
      "Fold 5 Out of Sample Accuracy = 0.7918782\n",
      "Fold 1 Out of Sample Accuracy = 0.8020833\n",
      "Fold 2 Out of Sample Accuracy = 0.8010471\n",
      "Fold 3 Out of Sample Accuracy = 0.7777778\n",
      "Fold 4 Out of Sample Accuracy = 0.757732\n",
      "Fold 5 Out of Sample Accuracy = 0.7884615\n"
     ]
    },
    {
     "data": {
      "text/html": [
       "<table>\n",
       "<tbody>\n",
       "\t<tr><td>0.7859986</td></tr>\n",
       "\t<tr><td>0.7840358</td></tr>\n",
       "\t<tr><td>0.7869659</td></tr>\n",
       "\t<tr><td>0.7858381</td></tr>\n",
       "\t<tr><td>0.7858225</td></tr>\n",
       "\t<tr><td>0.7852730</td></tr>\n",
       "\t<tr><td>0.7865111</td></tr>\n",
       "\t<tr><td>0.7859559</td></tr>\n",
       "\t<tr><td>0.7854203</td></tr>\n",
       "</tbody>\n",
       "</table>\n"
      ],
      "text/latex": [
       "\\begin{tabular}{l}\n",
       "\t 0.7859986\\\\\n",
       "\t 0.7840358\\\\\n",
       "\t 0.7869659\\\\\n",
       "\t 0.7858381\\\\\n",
       "\t 0.7858225\\\\\n",
       "\t 0.7852730\\\\\n",
       "\t 0.7865111\\\\\n",
       "\t 0.7859559\\\\\n",
       "\t 0.7854203\\\\\n",
       "\\end{tabular}\n"
      ],
      "text/markdown": [
       "\n",
       "| 0.7859986 | \n",
       "| 0.7840358 | \n",
       "| 0.7869659 | \n",
       "| 0.7858381 | \n",
       "| 0.7858225 | \n",
       "| 0.7852730 | \n",
       "| 0.7865111 | \n",
       "| 0.7859559 | \n",
       "| 0.7854203 | \n",
       "\n",
       "\n"
      ],
      "text/plain": [
       "      [,1]     \n",
       " [1,] 0.7859986\n",
       " [2,] 0.7840358\n",
       " [3,] 0.7869659\n",
       " [4,] 0.7858381\n",
       " [5,] 0.7858225\n",
       " [6,] 0.7852730\n",
       " [7,] 0.7865111\n",
       " [8,] 0.7859559\n",
       " [9,] 0.7854203"
      ]
     },
     "metadata": {},
     "output_type": "display_data"
    }
   ],
   "source": [
    "for (i in (1:nrow(SVM_accuracy))) {\n",
    "    training_break <- as.integer(train_test_size[i]*nrow(df.reviews))\n",
    "    container<- create_container(dtm, t(df.reviews$Y), trainSize=1:training_break,\n",
    "                                   testSize=training_break:nrow(df.reviews), virgin=FALSE)\n",
    "    cv.svm <- cross_validate(container, nfold=5, algorithm = 'SVM', kernel = 'radial')\n",
    "    SVM_accuracy[i]<- cv.svm$meanAccuracy  \n",
    "}\n",
    "SVM_accuracy"
   ]
  },
  {
   "cell_type": "code",
   "execution_count": 460,
   "metadata": {
    "collapsed": false
   },
   "outputs": [
    {
     "data": {
      "text/html": [
       "0.786965947772438"
      ],
      "text/latex": [
       "0.786965947772438"
      ],
      "text/markdown": [
       "0.786965947772438"
      ],
      "text/plain": [
       "[1] 0.7869659"
      ]
     },
     "metadata": {},
     "output_type": "display_data"
    }
   ],
   "source": [
    "max(SVM_accuracy)"
   ]
  },
  {
   "cell_type": "markdown",
   "metadata": {},
   "source": [
    "#### When i used 30%, it gets the maximum. However, it is the same as previous question that the ratio doesn't seem to be very important to impact on the accuracy. So, linear model is better than raidal. "
   ]
  },
  {
   "cell_type": "markdown",
   "metadata": {},
   "source": [
    "## 3 (a)"
   ]
  },
  {
   "cell_type": "markdown",
   "metadata": {},
   "source": [
    "#### [1] "
   ]
  },
  {
   "cell_type": "code",
   "execution_count": 462,
   "metadata": {
    "collapsed": false
   },
   "outputs": [
    {
     "data": {
      "text/html": [
       "<ol class=list-inline>\n",
       "\t<li>'BIH'</li>\n",
       "\t<li>'POL'</li>\n",
       "\t<li>'ESP'</li>\n",
       "\t<li>'JOR'</li>\n",
       "\t<li>'IND'</li>\n",
       "\t<li>'CAN'</li>\n",
       "\t<li>'SRB'</li>\n",
       "\t<li>'USA'</li>\n",
       "\t<li>'JPN'</li>\n",
       "\t<li>'TUR'</li>\n",
       "\t<li>'UKR'</li>\n",
       "\t<li>'GRC'</li>\n",
       "\t<li>'GBR'</li>\n",
       "\t<li>'PRT'</li>\n",
       "\t<li>'VEN'</li>\n",
       "\t<li>'PAK'</li>\n",
       "\t<li>'HKG'</li>\n",
       "\t<li>'ARG'</li>\n",
       "\t<li>'MEX'</li>\n",
       "\t<li>'MYS'</li>\n",
       "\t<li>'DEU'</li>\n",
       "\t<li>'BGD'</li>\n",
       "\t<li>'FIN'</li>\n",
       "\t<li>'ITA'</li>\n",
       "\t<li>'IDN'</li>\n",
       "\t<li>'BGR'</li>\n",
       "\t<li>'ROU'</li>\n",
       "\t<li>'EGY'</li>\n",
       "\t<li>'AUT'</li>\n",
       "\t<li>'PHL'</li>\n",
       "\t<li>'RUS'</li>\n",
       "\t<li>'HRV'</li>\n",
       "\t<li>'CHL'</li>\n",
       "\t<li>''</li>\n",
       "\t<li>'SVK'</li>\n",
       "</ol>\n"
      ],
      "text/latex": [
       "\\begin{enumerate*}\n",
       "\\item 'BIH'\n",
       "\\item 'POL'\n",
       "\\item 'ESP'\n",
       "\\item 'JOR'\n",
       "\\item 'IND'\n",
       "\\item 'CAN'\n",
       "\\item 'SRB'\n",
       "\\item 'USA'\n",
       "\\item 'JPN'\n",
       "\\item 'TUR'\n",
       "\\item 'UKR'\n",
       "\\item 'GRC'\n",
       "\\item 'GBR'\n",
       "\\item 'PRT'\n",
       "\\item 'VEN'\n",
       "\\item 'PAK'\n",
       "\\item 'HKG'\n",
       "\\item 'ARG'\n",
       "\\item 'MEX'\n",
       "\\item 'MYS'\n",
       "\\item 'DEU'\n",
       "\\item 'BGD'\n",
       "\\item 'FIN'\n",
       "\\item 'ITA'\n",
       "\\item 'IDN'\n",
       "\\item 'BGR'\n",
       "\\item 'ROU'\n",
       "\\item 'EGY'\n",
       "\\item 'AUT'\n",
       "\\item 'PHL'\n",
       "\\item 'RUS'\n",
       "\\item 'HRV'\n",
       "\\item 'CHL'\n",
       "\\item ''\n",
       "\\item 'SVK'\n",
       "\\end{enumerate*}\n"
      ],
      "text/markdown": [
       "1. 'BIH'\n",
       "2. 'POL'\n",
       "3. 'ESP'\n",
       "4. 'JOR'\n",
       "5. 'IND'\n",
       "6. 'CAN'\n",
       "7. 'SRB'\n",
       "8. 'USA'\n",
       "9. 'JPN'\n",
       "10. 'TUR'\n",
       "11. 'UKR'\n",
       "12. 'GRC'\n",
       "13. 'GBR'\n",
       "14. 'PRT'\n",
       "15. 'VEN'\n",
       "16. 'PAK'\n",
       "17. 'HKG'\n",
       "18. 'ARG'\n",
       "19. 'MEX'\n",
       "20. 'MYS'\n",
       "21. 'DEU'\n",
       "22. 'BGD'\n",
       "23. 'FIN'\n",
       "24. 'ITA'\n",
       "25. 'IDN'\n",
       "26. 'BGR'\n",
       "27. 'ROU'\n",
       "28. 'EGY'\n",
       "29. 'AUT'\n",
       "30. 'PHL'\n",
       "31. 'RUS'\n",
       "32. 'HRV'\n",
       "33. 'CHL'\n",
       "34. ''\n",
       "35. 'SVK'\n",
       "\n",
       "\n"
      ],
      "text/plain": [
       " [1] \"BIH\" \"POL\" \"ESP\" \"JOR\" \"IND\" \"CAN\" \"SRB\" \"USA\" \"JPN\" \"TUR\" \"UKR\" \"GRC\"\n",
       "[13] \"GBR\" \"PRT\" \"VEN\" \"PAK\" \"HKG\" \"ARG\" \"MEX\" \"MYS\" \"DEU\" \"BGD\" \"FIN\" \"ITA\"\n",
       "[25] \"IDN\" \"BGR\" \"ROU\" \"EGY\" \"AUT\" \"PHL\" \"RUS\" \"HRV\" \"CHL\" \"\"    \"SVK\""
      ]
     },
     "metadata": {},
     "output_type": "display_data"
    }
   ],
   "source": [
    "#load data\n",
    "df.hit<- read.csv(\"/Users/sunevan/Dropbox/Spring 2017/Text As Data/HW2/CF_rate_trustworthiness.csv\",stringsAsFactors = F)\n",
    "unique(df.hit$X_country)"
   ]
  },
  {
   "cell_type": "code",
   "execution_count": 463,
   "metadata": {
    "collapsed": false
   },
   "outputs": [
    {
     "data": {
      "text/html": [
       "<table>\n",
       "<thead><tr><th></th><th scope=col>X_unit_id</th><th scope=col>X_created_at</th><th scope=col>X_id</th><th scope=col>X_started_at</th><th scope=col>X_tainted</th><th scope=col>X_channel</th><th scope=col>X_trust</th><th scope=col>X_worker_id</th><th scope=col>X_country</th><th scope=col>X_region</th><th scope=col>X_city</th><th scope=col>X_ip</th><th scope=col>rating</th><th scope=col>image_name</th><th scope=col>url</th></tr></thead>\n",
       "<tbody>\n",
       "\t<tr><th scope=row>182</th><td>726049343                                                              </td><td>5/26/2015 15:31:12                                                     </td><td>1643434072                                                             </td><td>5/26/2015 15:31:05                                                     </td><td>false                                                                  </td><td>clixsense                                                              </td><td>1                                                                      </td><td>31151345                                                               </td><td>                                                                       </td><td>                                                                       </td><td>                                                                       </td><td>185.79.230.246                                                         </td><td>7                                                                      </td><td>whitewoman8                                                            </td><td>https://raw.githubusercontent.com/kmunger/images/master/whitewoman8.jpg</td></tr>\n",
       "</tbody>\n",
       "</table>\n"
      ],
      "text/latex": [
       "\\begin{tabular}{r|lllllllllllllll}\n",
       "  & X\\_unit\\_id & X\\_created\\_at & X\\_id & X\\_started\\_at & X\\_tainted & X\\_channel & X\\_trust & X\\_worker\\_id & X\\_country & X\\_region & X\\_city & X\\_ip & rating & image\\_name & url\\\\\n",
       "\\hline\n",
       "\t182 & 726049343                                                               & 5/26/2015 15:31:12                                                      & 1643434072                                                              & 5/26/2015 15:31:05                                                      & false                                                                   & clixsense                                                               & 1                                                                       & 31151345                                                                &                                                                         &                                                                         &                                                                         & 185.79.230.246                                                          & 7                                                                       & whitewoman8                                                             & https://raw.githubusercontent.com/kmunger/images/master/whitewoman8.jpg\\\\\n",
       "\\end{tabular}\n"
      ],
      "text/markdown": [
       "\n",
       "| <!--/--> | X_unit_id | X_created_at | X_id | X_started_at | X_tainted | X_channel | X_trust | X_worker_id | X_country | X_region | X_city | X_ip | rating | image_name | url | \n",
       "|---|\n",
       "| 182 | 726049343                                                               | 5/26/2015 15:31:12                                                      | 1643434072                                                              | 5/26/2015 15:31:05                                                      | false                                                                   | clixsense                                                               | 1                                                                       | 31151345                                                                |                                                                         |                                                                         |                                                                         | 185.79.230.246                                                          | 7                                                                       | whitewoman8                                                             | https://raw.githubusercontent.com/kmunger/images/master/whitewoman8.jpg | \n",
       "\n",
       "\n"
      ],
      "text/plain": [
       "    X_unit_id X_created_at       X_id       X_started_at       X_tainted\n",
       "182 726049343 5/26/2015 15:31:12 1643434072 5/26/2015 15:31:05 false    \n",
       "    X_channel X_trust X_worker_id X_country X_region X_city X_ip          \n",
       "182 clixsense 1       31151345                              185.79.230.246\n",
       "    rating image_name \n",
       "182 7      whitewoman8\n",
       "    url                                                                    \n",
       "182 https://raw.githubusercontent.com/kmunger/images/master/whitewoman8.jpg"
      ]
     },
     "metadata": {},
     "output_type": "display_data"
    }
   ],
   "source": [
    "df.hit[which(df.hit$X_country == ''),] "
   ]
  },
  {
   "cell_type": "markdown",
   "metadata": {},
   "source": [
    "#### It seems that there is a data error that #182 row doesn't have country nationality. Remove this from the whole dataset"
   ]
  },
  {
   "cell_type": "code",
   "execution_count": 464,
   "metadata": {
    "collapsed": false
   },
   "outputs": [
    {
     "data": {
      "text/html": [
       "<table>\n",
       "<thead><tr><th scope=col>X_unit_id</th><th scope=col>X_created_at</th><th scope=col>X_id</th><th scope=col>X_started_at</th><th scope=col>X_tainted</th><th scope=col>X_channel</th><th scope=col>X_trust</th><th scope=col>X_worker_id</th><th scope=col>X_country</th><th scope=col>X_region</th><th scope=col>X_city</th><th scope=col>X_ip</th><th scope=col>rating</th><th scope=col>image_name</th><th scope=col>url</th></tr></thead>\n",
       "<tbody>\n",
       "\t<tr><td>726049306                                                            </td><td>5/26/2015 15:32:50                                                   </td><td>1643434598                                                           </td><td>5/26/2015 15:32:44                                                   </td><td>false                                                                </td><td>clixsense                                                            </td><td>1                                                                    </td><td>32145508                                                             </td><td>BIH                                                                  </td><td>01                                                                   </td><td>Sarajevo                                                             </td><td>185.13.242.248                                                       </td><td>4                                                                    </td><td>blackman1                                                            </td><td>https://raw.githubusercontent.com/kmunger/images/master/blackman1.jpg</td></tr>\n",
       "\t<tr><td>726049306                                                            </td><td>5/26/2015 15:32:54                                                   </td><td>1643434614                                                           </td><td>5/26/2015 15:32:46                                                   </td><td>false                                                                </td><td>neodev                                                               </td><td>1                                                                    </td><td>30448360                                                             </td><td>POL                                                                  </td><td>73                                                                   </td><td>Polska                                                               </td><td>31.61.136.172                                                        </td><td>1                                                                    </td><td>blackman1                                                            </td><td>https://raw.githubusercontent.com/kmunger/images/master/blackman1.jpg</td></tr>\n",
       "</tbody>\n",
       "</table>\n"
      ],
      "text/latex": [
       "\\begin{tabular}{r|lllllllllllllll}\n",
       " X\\_unit\\_id & X\\_created\\_at & X\\_id & X\\_started\\_at & X\\_tainted & X\\_channel & X\\_trust & X\\_worker\\_id & X\\_country & X\\_region & X\\_city & X\\_ip & rating & image\\_name & url\\\\\n",
       "\\hline\n",
       "\t 726049306                                                             & 5/26/2015 15:32:50                                                    & 1643434598                                                            & 5/26/2015 15:32:44                                                    & false                                                                 & clixsense                                                             & 1                                                                     & 32145508                                                              & BIH                                                                   & 01                                                                    & Sarajevo                                                              & 185.13.242.248                                                        & 4                                                                     & blackman1                                                             & https://raw.githubusercontent.com/kmunger/images/master/blackman1.jpg\\\\\n",
       "\t 726049306                                                             & 5/26/2015 15:32:54                                                    & 1643434614                                                            & 5/26/2015 15:32:46                                                    & false                                                                 & neodev                                                                & 1                                                                     & 30448360                                                              & POL                                                                   & 73                                                                    & Polska                                                                & 31.61.136.172                                                         & 1                                                                     & blackman1                                                             & https://raw.githubusercontent.com/kmunger/images/master/blackman1.jpg\\\\\n",
       "\\end{tabular}\n"
      ],
      "text/markdown": [
       "\n",
       "X_unit_id | X_created_at | X_id | X_started_at | X_tainted | X_channel | X_trust | X_worker_id | X_country | X_region | X_city | X_ip | rating | image_name | url | \n",
       "|---|---|\n",
       "| 726049306                                                             | 5/26/2015 15:32:50                                                    | 1643434598                                                            | 5/26/2015 15:32:44                                                    | false                                                                 | clixsense                                                             | 1                                                                     | 32145508                                                              | BIH                                                                   | 01                                                                    | Sarajevo                                                              | 185.13.242.248                                                        | 4                                                                     | blackman1                                                             | https://raw.githubusercontent.com/kmunger/images/master/blackman1.jpg | \n",
       "| 726049306                                                             | 5/26/2015 15:32:54                                                    | 1643434614                                                            | 5/26/2015 15:32:46                                                    | false                                                                 | neodev                                                                | 1                                                                     | 30448360                                                              | POL                                                                   | 73                                                                    | Polska                                                                | 31.61.136.172                                                         | 1                                                                     | blackman1                                                             | https://raw.githubusercontent.com/kmunger/images/master/blackman1.jpg | \n",
       "\n",
       "\n"
      ],
      "text/plain": [
       "  X_unit_id X_created_at       X_id       X_started_at       X_tainted\n",
       "1 726049306 5/26/2015 15:32:50 1643434598 5/26/2015 15:32:44 false    \n",
       "2 726049306 5/26/2015 15:32:54 1643434614 5/26/2015 15:32:46 false    \n",
       "  X_channel X_trust X_worker_id X_country X_region X_city   X_ip          \n",
       "1 clixsense 1       32145508    BIH       01       Sarajevo 185.13.242.248\n",
       "2 neodev    1       30448360    POL       73       Polska   31.61.136.172 \n",
       "  rating image_name\n",
       "1 4      blackman1 \n",
       "2 1      blackman1 \n",
       "  url                                                                  \n",
       "1 https://raw.githubusercontent.com/kmunger/images/master/blackman1.jpg\n",
       "2 https://raw.githubusercontent.com/kmunger/images/master/blackman1.jpg"
      ]
     },
     "metadata": {},
     "output_type": "display_data"
    }
   ],
   "source": [
    "df.hitnew <- df.hit[which(df.hit$X_country != ''),] \n",
    "head(df.hitnew,2)"
   ]
  },
  {
   "cell_type": "code",
   "execution_count": 465,
   "metadata": {
    "collapsed": false
   },
   "outputs": [],
   "source": [
    "nation <- unique(df.hitnew$X_country)\n",
    "\n",
    "p_value <- matrix(0,ncol = 1, nrow = length(nation))\n",
    "\n",
    "for (i in (1:length(nation))){\n",
    "    \n",
    "    x <- df.hit[which(df.hit$X_country == nation[i]),]$rating\n",
    "    y <- df.hit[which(df.hit$X_country != nation[i]),]$rating\n",
    "    if (length(x)==1){\n",
    "        p_value[i]<- 1 \n",
    "    }\n",
    "    else {\n",
    "        p_value[i] <- t.test(x,y,alternative = \"greater\")[\"p.value\"]  \n",
    "    } \n",
    "    \n",
    "}\n"
   ]
  },
  {
   "cell_type": "code",
   "execution_count": 466,
   "metadata": {
    "collapsed": false
   },
   "outputs": [],
   "source": [
    "p_value_df <- data.frame(as.matrix(nation),as.matrix(p_value))\n",
    "colnames(p_value_df) <- c(\"nationality\",\"p_value\")"
   ]
  },
  {
   "cell_type": "code",
   "execution_count": 271,
   "metadata": {
    "collapsed": false
   },
   "outputs": [],
   "source": [
    "# filter out signicant nationality \n",
    "p_value_nation<-p_value_df[which(p_value_df$p_value<=0.05),]"
   ]
  },
  {
   "cell_type": "code",
   "execution_count": 467,
   "metadata": {
    "collapsed": true
   },
   "outputs": [],
   "source": [
    "# compute x_avg (the particular nationality) vs y_avg (all other nationality)\n",
    "X_avg <-  matrix(0,ncol = 1, nrow = nrow(p_value_nation))\n",
    "Y_avg <- matrix(0,ncol = 1, nrow = nrow(p_value_nation))\n",
    "\n",
    "for (i in (1:nrow(p_value_nation))){\n",
    "    \n",
    "    X_avg[i] <- mean(df.hit[which(df.hit$X_country == p_value_nation[i,1]),]$rating)\n",
    "    Y_avg[i] <- mean(df.hit[which(df.hit$X_country != p_value_nation[i,1]),]$rating)\n",
    "    \n",
    "}\n",
    "\n",
    "p_value_nation$X_avg <- X_avg\n",
    "p_value_nation$Y_avg <- Y_avg"
   ]
  },
  {
   "cell_type": "code",
   "execution_count": 468,
   "metadata": {
    "collapsed": false
   },
   "outputs": [
    {
     "data": {
      "text/html": [
       "<table>\n",
       "<thead><tr><th></th><th scope=col>nationality</th><th scope=col>p_value</th><th scope=col>X_avg</th><th scope=col>Y_avg</th></tr></thead>\n",
       "<tbody>\n",
       "\t<tr><th scope=row>8</th><td>USA       </td><td>0.03518437</td><td> 6.600000 </td><td>5.995349  </td></tr>\n",
       "\t<tr><th scope=row>9</th><td>JPN         </td><td>0.0008219275</td><td> 8.166667   </td><td>5.948598    </td></tr>\n",
       "\t<tr><th scope=row>13</th><td>GBR        </td><td>0.007040027</td><td> 7.714286  </td><td>5.953052   </td></tr>\n",
       "\t<tr><th scope=row>17</th><td>HKG       </td><td>0.02397056</td><td> 7.000000 </td><td>5.971698  </td></tr>\n",
       "\t<tr><th scope=row>21</th><td>DEU       </td><td>0.01374244</td><td> 7.000000 </td><td>5.986047  </td></tr>\n",
       "\t<tr><th scope=row>26</th><td>BGR       </td><td>0.01862525</td><td> 8.600000 </td><td>5.948837  </td></tr>\n",
       "\t<tr><th scope=row>30</th><td>PHL       </td><td>0.04535236</td><td> 9.000000 </td><td>5.967742  </td></tr>\n",
       "\t<tr><th scope=row>33</th><td>CHL        </td><td>1.20607e-73</td><td>10.000000  </td><td>5.972477   </td></tr>\n",
       "</tbody>\n",
       "</table>\n"
      ],
      "text/latex": [
       "\\begin{tabular}{r|llll}\n",
       "  & nationality & p\\_value & X\\_avg & Y\\_avg\\\\\n",
       "\\hline\n",
       "\t8 & USA        & 0.03518437 &  6.600000  & 5.995349  \\\\\n",
       "\t9 & JPN          & 0.0008219275 &  8.166667    & 5.948598    \\\\\n",
       "\t13 & GBR         & 0.007040027 &  7.714286   & 5.953052   \\\\\n",
       "\t17 & HKG        & 0.02397056 &  7.000000  & 5.971698  \\\\\n",
       "\t21 & DEU        & 0.01374244 &  7.000000  & 5.986047  \\\\\n",
       "\t26 & BGR        & 0.01862525 &  8.600000  & 5.948837  \\\\\n",
       "\t30 & PHL        & 0.04535236 &  9.000000  & 5.967742  \\\\\n",
       "\t33 & CHL         & 1.20607e-73 & 10.000000   & 5.972477   \\\\\n",
       "\\end{tabular}\n"
      ],
      "text/markdown": [
       "\n",
       "| <!--/--> | nationality | p_value | X_avg | Y_avg | \n",
       "|---|---|---|---|---|---|---|---|\n",
       "| 8 | USA        | 0.03518437 |  6.600000  | 5.995349   | \n",
       "| 9 | JPN          | 0.0008219275 |  8.166667    | 5.948598     | \n",
       "| 13 | GBR         | 0.007040027 |  7.714286   | 5.953052    | \n",
       "| 17 | HKG        | 0.02397056 |  7.000000  | 5.971698   | \n",
       "| 21 | DEU        | 0.01374244 |  7.000000  | 5.986047   | \n",
       "| 26 | BGR        | 0.01862525 |  8.600000  | 5.948837   | \n",
       "| 30 | PHL        | 0.04535236 |  9.000000  | 5.967742   | \n",
       "| 33 | CHL         | 1.20607e-73 | 10.000000   | 5.972477    | \n",
       "\n",
       "\n"
      ],
      "text/plain": [
       "   nationality p_value      X_avg     Y_avg   \n",
       "8  USA         0.03518437    6.600000 5.995349\n",
       "9  JPN         0.0008219275  8.166667 5.948598\n",
       "13 GBR         0.007040027   7.714286 5.953052\n",
       "17 HKG         0.02397056    7.000000 5.971698\n",
       "21 DEU         0.01374244    7.000000 5.986047\n",
       "26 BGR         0.01862525    8.600000 5.948837\n",
       "30 PHL         0.04535236    9.000000 5.967742\n",
       "33 CHL         1.20607e-73  10.000000 5.972477"
      ]
     },
     "metadata": {},
     "output_type": "display_data"
    }
   ],
   "source": [
    "p_value_nation"
   ]
  },
  {
   "cell_type": "markdown",
   "metadata": {},
   "source": [
    "#### [2]"
   ]
  },
  {
   "cell_type": "code",
   "execution_count": 469,
   "metadata": {
    "collapsed": false
   },
   "outputs": [],
   "source": [
    "\n",
    "# remove number from the string \n",
    "df.hit$demographic <-gsub('[0-9]+', '', df.hit$image_name)\n",
    "\n",
    "# process data for race and gender \n",
    "Gender <- matrix(0,ncol = 1, nrow = nrow(df.hit))\n",
    "for (i in (1:nrow(df.hit))){\n",
    "    if (df.hit$demographic[i] == \"whitewoman\") {\n",
    "        Gender[i] <- \"w\"        \n",
    "    }\n",
    "    else {\n",
    "        Gender[i] <- \"m\"\n",
    "        \n",
    "    }\n",
    "              \n",
    "    }\n",
    "\n",
    "df.hit$Gender <- Gender"
   ]
  },
  {
   "cell_type": "code",
   "execution_count": 470,
   "metadata": {
    "collapsed": false
   },
   "outputs": [],
   "source": [
    "demographic.aov <- aov(df.hit$rating ~ df.hit$demographic)"
   ]
  },
  {
   "cell_type": "code",
   "execution_count": 471,
   "metadata": {
    "collapsed": false
   },
   "outputs": [
    {
     "data": {
      "text/plain": [
       "                    Df Sum Sq Mean Sq F value Pr(>F)  \n",
       "df.hit$demographic   2   34.6  17.284   3.776 0.0244 *\n",
       "Residuals          217  993.4   4.578                 \n",
       "---\n",
       "Signif. codes:  0 ‘***’ 0.001 ‘**’ 0.01 ‘*’ 0.05 ‘.’ 0.1 ‘ ’ 1"
      ]
     },
     "metadata": {},
     "output_type": "display_data"
    }
   ],
   "source": [
    "summary(demographic.aov)"
   ]
  },
  {
   "cell_type": "markdown",
   "metadata": {},
   "source": [
    "#### 0.0244, so it is significant"
   ]
  },
  {
   "cell_type": "markdown",
   "metadata": {},
   "source": [
    "#### [3]"
   ]
  },
  {
   "cell_type": "code",
   "execution_count": 360,
   "metadata": {
    "collapsed": false
   },
   "outputs": [
    {
     "data": {
      "text/plain": [
       "\n",
       "\tWelch Two Sample t-test\n",
       "\n",
       "data:  woman and man\n",
       "t = 1.7449, df = 137.06, p-value = 0.08324\n",
       "alternative hypothesis: true difference in means is not equal to 0\n",
       "95 percent confidence interval:\n",
       " -0.07363011  1.17891746\n",
       "sample estimates:\n",
       "mean of x mean of y \n",
       " 6.373333  5.820690 \n"
      ]
     },
     "metadata": {},
     "output_type": "display_data"
    }
   ],
   "source": [
    "\n",
    "man <- df.hit[which(df.hit$Gender == 'm'),]$rating\n",
    "woman <- df.hit[which(df.hit$Gender != 'm'),]$rating\n",
    "t.test(woman,man)  "
   ]
  },
  {
   "cell_type": "markdown",
   "metadata": {},
   "source": [
    "#### Not significant"
   ]
  },
  {
   "cell_type": "markdown",
   "metadata": {},
   "source": [
    "#### [4]"
   ]
  },
  {
   "cell_type": "code",
   "execution_count": 475,
   "metadata": {
    "collapsed": false
   },
   "outputs": [
    {
     "data": {
      "text/html": [
       "<ol class=list-inline>\n",
       "\t<li>'clixsense'</li>\n",
       "\t<li>'neodev'</li>\n",
       "\t<li>'elite'</li>\n",
       "\t<li>'tremorgames'</li>\n",
       "\t<li>'points4rewards'</li>\n",
       "</ol>\n"
      ],
      "text/latex": [
       "\\begin{enumerate*}\n",
       "\\item 'clixsense'\n",
       "\\item 'neodev'\n",
       "\\item 'elite'\n",
       "\\item 'tremorgames'\n",
       "\\item 'points4rewards'\n",
       "\\end{enumerate*}\n"
      ],
      "text/markdown": [
       "1. 'clixsense'\n",
       "2. 'neodev'\n",
       "3. 'elite'\n",
       "4. 'tremorgames'\n",
       "5. 'points4rewards'\n",
       "\n",
       "\n"
      ],
      "text/plain": [
       "[1] \"clixsense\"      \"neodev\"         \"elite\"          \"tremorgames\"   \n",
       "[5] \"points4rewards\""
      ]
     },
     "metadata": {},
     "output_type": "display_data"
    }
   ],
   "source": [
    "unique(df.hit$X_channel)"
   ]
  },
  {
   "cell_type": "markdown",
   "metadata": {},
   "source": [
    "#### a) I will ask if different channel is related to the ratings. It seems that someone is doing the test for rewards. Maybe this group of people will spend much less time to really focus on the ratings and give random answers"
   ]
  },
  {
   "cell_type": "code",
   "execution_count": 478,
   "metadata": {
    "collapsed": true
   },
   "outputs": [],
   "source": [
    "image.aov <- aov(df.hit$rating ~ df.hit$image_name)"
   ]
  },
  {
   "cell_type": "code",
   "execution_count": 479,
   "metadata": {
    "collapsed": false
   },
   "outputs": [
    {
     "data": {
      "text/plain": [
       "                   Df Sum Sq Mean Sq F value  Pr(>F)   \n",
       "df.hit$image_name  43  310.4   7.218    1.77 0.00541 **\n",
       "Residuals         176  717.6   4.077                   \n",
       "---\n",
       "Signif. codes:  0 ‘***’ 0.001 ‘**’ 0.01 ‘*’ 0.05 ‘.’ 0.1 ‘ ’ 1"
      ]
     },
     "metadata": {},
     "output_type": "display_data"
    }
   ],
   "source": [
    "summary(image.aov)"
   ]
  },
  {
   "cell_type": "markdown",
   "metadata": {},
   "source": [
    "#### b) Also, the quality of the image self. It is clear that it is significant that different images has clearly different average rating. I will ask them to filter images that have clearly higher or lower average rating than others. "
   ]
  }
 ],
 "metadata": {
  "kernelspec": {
   "display_name": "R",
   "language": "R",
   "name": "ir"
  },
  "language_info": {
   "codemirror_mode": "r",
   "file_extension": ".r",
   "mimetype": "text/x-r-source",
   "name": "R",
   "pygments_lexer": "r",
   "version": "3.3.2"
  }
 },
 "nbformat": 4,
 "nbformat_minor": 2
}
